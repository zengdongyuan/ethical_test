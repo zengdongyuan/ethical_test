{
 "nbformat": 4,
 "nbformat_minor": 0,
 "metadata": {
  "colab": {
   "provenance": []
  },
  "kernelspec": {
   "name": "python3",
   "display_name": "Python 3"
  },
  "language_info": {
   "name": "python"
  }
 },
 "cells": [
  {
   "cell_type": "code",
   "execution_count": 2,
   "metadata": {
    "id": "fZ36ZB336336"
   },
   "outputs": [],
   "source": [
    "import sqlite3"
   ]
  },
  {
   "cell_type": "code",
   "source": [
    "import datetime"
   ],
   "metadata": {
    "id": "SSUGrVqA69-j"
   },
   "execution_count": 3,
   "outputs": []
  },
  {
   "cell_type": "code",
   "source": [
    "conn = sqlite3.connect(\"log.db\")"
   ],
   "metadata": {
    "id": "rhrodm4C7Am2"
   },
   "execution_count": 4,
   "outputs": []
  },
  {
   "cell_type": "code",
   "source": [
    "\n",
    "conn.execute(\"create table employee (name text, timestamp timestamp)\")"
   ],
   "metadata": {
    "colab": {
     "base_uri": "https://localhost:8080/",
     "height": 141
    },
    "id": "cJHpubjf7xiO",
    "outputId": "2cebbc42-60fc-4842-ef41-50e5d4cdb7e5"
   },
   "execution_count": 5,
   "outputs": [
    {
     "data": {
      "text/plain": "<sqlite3.Cursor at 0x25573afb4c0>"
     },
     "execution_count": 5,
     "metadata": {},
     "output_type": "execute_result"
    }
   ]
  },
  {
   "cell_type": "code",
   "source": [
    "conn.close()"
   ],
   "metadata": {
    "id": "cUUrbtOP8E6Z"
   },
   "execution_count": 6,
   "outputs": []
  },
  {
   "cell_type": "code",
   "source": [
    "conn = sqlite3.connect(\"log.db\")"
   ],
   "metadata": {
    "id": "cfE3gp2x8HPR"
   },
   "execution_count": null,
   "outputs": []
  },
  {
   "cell_type": "code",
   "source": [
    "c = conn.execute(\"select * from employee\")"
   ],
   "metadata": {
    "id": "uI2opG0q9IRz"
   },
   "execution_count": null,
   "outputs": []
  },
  {
   "cell_type": "code",
   "source": [
    "c.description"
   ],
   "metadata": {
    "colab": {
     "base_uri": "https://localhost:8080/"
    },
    "id": "-h26dsKk91W3",
    "outputId": "5d0d0501-1c5a-44bb-e918-c7caa44c4fdc"
   },
   "execution_count": null,
   "outputs": [
    {
     "output_type": "execute_result",
     "data": {
      "text/plain": [
       "(('name', None, None, None, None, None, None),\n",
       " ('timestamp', None, None, None, None, None, None))"
      ]
     },
     "metadata": {},
     "execution_count": 8
    }
   ]
  },
  {
   "cell_type": "code",
   "source": [
    "c.close"
   ],
   "metadata": {
    "colab": {
     "base_uri": "https://localhost:8080/"
    },
    "id": "XuQaMtKg93R_",
    "outputId": "09a8598e-ece1-4ba0-ce37-d467cb9629cb"
   },
   "execution_count": null,
   "outputs": [
    {
     "output_type": "execute_result",
     "data": {
      "text/plain": [
       "<function Cursor.close()>"
      ]
     },
     "metadata": {},
     "execution_count": 21
    }
   ]
  },
  {
   "cell_type": "code",
   "source": [
    "conn.close"
   ],
   "metadata": {
    "colab": {
     "base_uri": "https://localhost:8080/"
    },
    "id": "99skGclG94ex",
    "outputId": "a7e6ed43-130b-4860-cdf6-6184e137fcf5"
   },
   "execution_count": null,
   "outputs": [
    {
     "output_type": "execute_result",
     "data": {
      "text/plain": [
       "<function Connection.close()>"
      ]
     },
     "metadata": {},
     "execution_count": 22
    }
   ]
  },
  {
   "cell_type": "code",
   "source": [
    "conn = sqlite3.connect(\"log.db\")"
   ],
   "metadata": {
    "id": "Fp_5JbaO9666"
   },
   "execution_count": null,
   "outputs": []
  },
  {
   "cell_type": "code",
   "source": [
    "c = conn.cursor()"
   ],
   "metadata": {
    "id": "wUBQUnfv9-3a"
   },
   "execution_count": null,
   "outputs": []
  },
  {
   "cell_type": "code",
   "source": [
    "name =\"ss\"\n",
    "timestamp = datetime.datetime.now()\n",
    "c.execute(\"insert into employee (name,timestamp) values(?,?)\",(name,timestamp))\n",
    "conn.commit()"
   ],
   "metadata": {
    "id": "SFtSm5Ls-A7N"
   },
   "execution_count": null,
   "outputs": []
  },
  {
   "cell_type": "code",
   "source": [
    "c.close\n",
    "conn.close"
   ],
   "metadata": {
    "id": "6B566QEh-dTa",
    "colab": {
     "base_uri": "https://localhost:8080/"
    },
    "outputId": "b2b5f830-8bcb-4b95-c271-ab85c3a4b733"
   },
   "execution_count": null,
   "outputs": [
    {
     "output_type": "execute_result",
     "data": {
      "text/plain": [
       "<function Connection.close()>"
      ]
     },
     "metadata": {},
     "execution_count": 30
    }
   ]
  },
  {
   "cell_type": "code",
   "source": [
    "conn = sqlite3.connect(\"log.db\")\n",
    "c = conn.execute(\"select * from employee\")"
   ],
   "metadata": {
    "id": "Txiu983G_QK6"
   },
   "execution_count": null,
   "outputs": []
  },
  {
   "cell_type": "code",
   "source": [],
   "metadata": {
    "id": "LpZzMyyZEXW2"
   },
   "execution_count": null,
   "outputs": []
  },
  {
   "cell_type": "code",
   "source": [
    "row=\"\"\n",
    "for row in c:\n",
    "  print(row)"
   ],
   "metadata": {
    "id": "j3aGWZPU_Uw3",
    "colab": {
     "base_uri": "https://localhost:8080/"
    },
    "outputId": "ea955c03-53b5-455e-f07a-e83b0bf9245b"
   },
   "execution_count": null,
   "outputs": [
    {
     "output_type": "stream",
     "name": "stdout",
     "text": [
      "('ss', '2024-03-15 12:09:44.840097')\n"
     ]
    }
   ]
  },
  {
   "cell_type": "code",
   "source": [],
   "metadata": {
    "id": "sPQ0uiNC_kxY",
    "colab": {
     "base_uri": "https://localhost:8080/"
    },
    "outputId": "fd8530c3-284b-42c5-f6ac-36d8a129da69"
   },
   "execution_count": null,
   "outputs": [
    {
     "output_type": "execute_result",
     "data": {
      "text/plain": [
       "(('name', None, None, None, None, None, None),\n",
       " ('timestamp', None, None, None, None, None, None))"
      ]
     },
     "metadata": {},
     "execution_count": 28
    }
   ]
  },
  {
   "cell_type": "code",
   "source": [
    "c.close\n",
    "conn.close"
   ],
   "metadata": {
    "id": "KUyLGPts_o55"
   },
   "execution_count": null,
   "outputs": []
  }
 ]
}